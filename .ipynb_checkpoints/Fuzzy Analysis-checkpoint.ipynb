{
 "cells": [
  {
   "cell_type": "code",
   "execution_count": null,
   "id": "50e8dfca-2d8e-422c-876a-55b0412d009e",
   "metadata": {},
   "outputs": [],
   "source": [
    "# Step 1\n",
    "\n",
    "import arcpy\n",
    "from arcpy import env\n",
    "from arcpy.ia import *\n",
    "from arcpy.sa import *\n",
    "\n"
   ]
  },
  {
   "cell_type": "code",
   "execution_count": null,
   "id": "03d1e843-b78e-48d8-8bf4-eab5cefea6d2",
   "metadata": {},
   "outputs": [],
   "source": [
    "def HotspotMapping():\n",
    "    arcpy.env.overwriteOutput = False\n",
    "    \n",
    "    arcpy.CheckOutExtension(\"spatial\")\n",
    "    arcpy.CheckOutExtension(\"ImageAnalyst\")\n",
    "    arcpy.CheckPutExtension(\"3D\")\n",
    "pass"
   ]
  },
  {
   "cell_type": "code",
   "execution_count": 1,
   "id": "9944cdd3-27ba-4615-9136-89eae2b69e22",
   "metadata": {
    "tags": []
   },
   "outputs": [],
   "source": [
    "# Define the fuzzy membership to analysis\n",
    "\n",
    "def FuzzyAnalysis():\n",
    "    fuzzyPopulation = arcpy.Raster(\"Plastic RnD/Data Input/Static Data/population.tif\")\n",
    "    fuzzyPopulation_function = linear\n",
    "    min = 0\n",
    "    max = 1\n",
    "    hedge = \"NONE\"\n",
    "    fuzzyPopulation_field = \"value\"\n",
    "    \n",
    "    fuzzyLULC = arcpy.Raster(LULC.tif)\n",
    "    fuzzyLULC_function = large\n",
    "    fuzzyLULC_field = \"gridcode\"\n",
    "pass\n",
    "\n",
    "def FuzzyOverlay():\n",
    "    fuzzyAnd = arcpy.Raster(fuzzyPopulation)\n",
    "    overlap_type = \"AND\"\n",
    "    output_cellsize = \"30\"\n",
    "    gamma = \"1\"\n",
    "    \n",
    "    fuzzyAnd = arcpy.sa.FuzzyOverlay([fuzzyPopulation, fuzzyLULC], overlap_type, gamma)\n",
    "pass"
   ]
  },
  {
   "cell_type": "code",
   "execution_count": null,
   "id": "3f34e5b5-bd1e-4d04-b7af-9d02f3f7091b",
   "metadata": {},
   "outputs": [],
   "source": [
    "# Define the rasterization from vector data available\n",
    "\n",
    "poi = \"Plastic RnD/Data Input/Static Data/poi.shp\"\n",
    "\n",
    "def KernelDensity():\n",
    "    population_field = \"ID\"\n",
    "    output_cellsize = \"30\"\n",
    "    search_radius = \"500\" # in meters\n",
    "    area_unit = \"HECTARES\"\n",
    "    method = \"GEODESIC\"\n",
    "pass\n",
    "\n",
    "# from the point features\n",
    "\n",
    "\n",
    "poiFacilities = poi with arcpy.EnvManager(outputCoordinateSystem=PROJCS[\\\"WGS_1984_Web_Mercator_Auxiliary_Sphere\\\",GEOGCS[\\\"GCS_WGS_1984\\\",DATUM[\\\"D_WGS_1984\\\",SPHEROID[\\\"WGS_1984\\\",6378137.0,298.257223563]],PRIMEM[\\\"Greenwich\\\",0.0],UNIT[\\\"Degree\\\",0.0174532925199433]],PROJECTION[\\\"Mercator_Auxiliary_Sphere\\\"],PARAMETER[\\\"False_Easting\\\",0.0],PARAMETER[\\\"False_Northing\\\",0.0],PARAMETER[\\\"Central_Meridian\\\",0.0],PARAMETER[\\\"Standard_Parallel_1\\\",0.0],PARAMETER[\\\"Auxiliary_Sphere_Type\\\",0.0],UNIT[\\\"Meter\\\",1.0]]\")):\n",
    "                                                        poi = arcpy.sa.KernelDensity(poi, population_field, output_cellsize, search_radius, area_unit, method)\n",
    "                                                                        fuzzy_result.save(kernel_density_1)\n",
    "def ZonalStatistics():\n",
    "                                                                        "
   ]
  },
  {
   "cell_type": "code",
   "execution_count": null,
   "id": "0a2eb71c-e4c8-481a-b5b0-44161422f1cf",
   "metadata": {},
   "outputs": [],
   "source": [
    "# Define the fuzzy membership to the dynamic data\n",
    "\n",
    "def DynamicIndicators():\n",
    "    artificialBarrier =\n",
    "    litteringSpot = \n",
    "    uncontrolDump = "
   ]
  },
  {
   "cell_type": "markdown",
   "id": "6c7bd056-47da-4e0a-a16b-b6901ac87845",
   "metadata": {
    "tags": []
   },
   "source": [
    "# Clearance with new Fuzzy Approach\n",
    "## Based on the approach made using the MADM Model, the fuzzy classification impoved for the multi-atribute decision making model. (Ranjibar & Effati. 2022)\n",
    "### Sequence step in the model:\n",
    "### 1. Review on TOPSIS method\n",
    "### 2. Friedman Test\n",
    "### 3. Membership function (old)\n",
    "### 4. Comparative analysis"
   ]
  },
  {
   "cell_type": "markdown",
   "id": "6656af6f-5f7a-401e-b1bb-3171531976d7",
   "metadata": {
    "tags": []
   },
   "source": [
    "## 1. Review on TOPSIS method"
   ]
  },
  {
   "cell_type": "code",
   "execution_count": null,
   "id": "4fc3528a-54e1-49e5-9c87-77a9443ea44f",
   "metadata": {},
   "outputs": [],
   "source": [
    "from skfuzzy import membership\n",
    "\n",
    "n_in = skfuzzy.membership.\n",
    "\n",
    "# Determine the normalized decision matrix (N_ij)\n",
    "N_ij = (n_in/n_out)/(sqrt(sq(n)))\n",
    "N_ij \n",
    "\n",
    "# Determine the weighted normalized decision matrix (V_ij)\n",
    "V_ij = N_ij^2\n",
    "V_ij\n",
    "\n",
    "# Determine the positive ideal (pos_id) and negative ideal (neg_id) solutions\n",
    "pos_id = \n",
    "neg_id = \n",
    "\n",
    "# Determine the separation from positive ideal and negative solutions between the alternatives (di)\n",
    "di = \n",
    "\n",
    "# Relative closeness (si)\n",
    "si = "
   ]
  },
  {
   "cell_type": "markdown",
   "id": "90333098-f15e-45b8-8cc1-f84df22bf04d",
   "metadata": {},
   "source": [
    "## 2. Friedman Test"
   ]
  },
  {
   "cell_type": "code",
   "execution_count": null,
   "id": "cce7160c-ef59-4f6b-8fcf-739edfa0515b",
   "metadata": {},
   "outputs": [],
   "source": [
    "from scipy,stats import friedmanchisquare\n",
    "\n",
    "# testing number\n",
    "before = [72, 96, 88, 92, 74, 76, 82]\n",
    "immediately_after = [120, 120, 132, 120, 101, 96, 112]\n",
    "five_min_after = [76, 95, 104, 96, 84, 72, 76]\n",
    "res = friedmanchisquare(before, immediately_after, five_min_after)\n",
    "\n",
    "# significant level\n",
    "res.statististic\n",
    "res.pvalue"
   ]
  }
 ],
 "metadata": {
  "kernelspec": {
   "display_name": "Python 3 (ipykernel)",
   "language": "python",
   "name": "python3"
  },
  "language_info": {
   "codemirror_mode": {
    "name": "ipython",
    "version": 3
   },
   "file_extension": ".py",
   "mimetype": "text/x-python",
   "name": "python",
   "nbconvert_exporter": "python",
   "pygments_lexer": "ipython3",
   "version": "3.9.16"
  }
 },
 "nbformat": 4,
 "nbformat_minor": 5
}
