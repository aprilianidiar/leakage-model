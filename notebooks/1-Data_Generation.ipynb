{
 "cells": [
  {
   "cell_type": "code",
   "execution_count": null,
   "id": "5d88f9e6-b40a-43e0-9e60-a52603252cb9",
   "metadata": {},
   "outputs": [],
   "source": [
    "import arcpy\n",
    "from arcpy import env\n",
    "from arcpy.ia import *\n",
    "from arcpy.sa import *\n",
    "\n",
    "import gdal \n"
   ]
  },
  {
   "cell_type": "code",
   "execution_count": null,
   "id": "f910e1bb-6691-416f-b797-8a3f66b59ce4",
   "metadata": {},
   "outputs": [],
   "source": [
    "def DataGeneration():\n",
    "    arcpy.env.overwriteOutput = False\n",
    "    \n",
    "pass"
   ]
  },
  {
   "cell_type": "code",
   "execution_count": null,
   "id": "d5bb7e44-3493-4ba9-9170-59633cdced18",
   "metadata": {},
   "outputs": [],
   "source": [
    "import re\n",
    "from shapely.wkt import loads\n",
    "from shapely.goemetry import polygon, mapping\n",
    "\n",
    "def StaticData():\n",
    "    population = F'Plastic RnD/Data Input/Static Data/1_Population_Density_YGN.tif'\n",
    "pass\n",
    "\n",
    "def DynamicData():\n",
    "    if mpSurvey = true\n",
    "    else mpSurvey = {1,2,3} = {\"artificialBarrier\", \"litterSpot\", \"uncontrolDump\"}\n",
    "    return \n",
    "\n",
    "artificialBarrier = F\"Plastic RnD/Data Input/Dynamic Data/20a_MPS_Artificial_Barrier_YGN.shp\"\n",
    "litterSpot = F\"Plastic RnD/Data Input/Dynamic Data/20b_MPS_Littering_Spot_YGN.shp\"\n",
    "uncontrolDump = F\"Plastic RnD/Data Input/Dynamic Data/20b_MPS_Littering_Spot_YGN.shp\"\n",
    "\n",
    "print artificialBarrier.intersection(litterSpot).uncontrolDump\n",
    "\n",
    "def NaturalData():\n",
    "    riverNetwork\n",
    "    slope\n",
    "    \n",
    "pass\n"
   ]
  },
  {
   "cell_type": "code",
   "execution_count": null,
   "id": "b69e8cbf-c69d-4e56-917b-b9584fc5d173",
   "metadata": {},
   "outputs": [],
   "source": [
    "# Calculating from Land Use Area\n",
    "import pandas as pd\n",
    "import numpy as np\n",
    "import geopandas as gpd\n",
    "import matplotlib.pyplot as plt\n",
    "\n",
    "## Conversion land use (raster) to vector dataset\n",
    "import rasterio\n",
    "from affine import Affine\n",
    "from shapely.geometry import shape\n",
    "\n",
    "from osgeo import gdal\n",
    "from osgeo import ogr\n",
    "from osgeo import osr\n",
    "\n",
    "landUse = gdal.Open('Plastic RnD/Data Input/Static Data/2_LULC_YGN.tif')\n",
    "band = landUse.GetRasterBand(1)\n",
    "driver = ogr.GetDriverByName('ESRI Shapefile')\n",
    "out_data = driver.CreateDataSource(shapefile_path)\n",
    "\n",
    "### projection set\n",
    "srs = osr.SpatialReference()\n",
    "srs.ImportFromWkt(landUse.GetProjectionRef())\n",
    "\n",
    "### creating layer with projecttion\n",
    "out_layer = out_data.CreateLayer('Plastic RnD/Data Input/Static Data/2_LULC_YGN.tif'.split('.')[0], srs)\n",
    "new_field = ogr.FieldDefn('landuse_field', ogr.OFTReal)\n",
    "out_layer.CreateField(new_field)\n",
    "\n",
    "gdal.FPolygonize(band, band, out_layer, 0, [], callback=None)\n",
    "gdal_polygonize.py [-8] \n",
    "\n",
    "out_data.Destroy()\n",
    "landUse = none\n",
    "\n",
    "landUse\n",
    "\n",
    "\n",
    "## Selecting the area (basins) and land use data\n",
    "selected_basins = gpd.read_file('Plastic RnD/Data Input/Static Data/Yangon Bounding Box.shp')\n",
    "landUse = # input LU in shapefile\n",
    "print('basins\\' shape = ', selected_basins.shape, 'and land use\\'s shape=', land_use.shape)\n",
    "\n",
    "### showing 3 first data\n",
    "basins.head(3)\n",
    "landUse.head(3)\n",
    "\n",
    "### plot dataframes\n",
    "fig = plt.figure(figsize=(12,6))\n",
    "\n",
    "ax1 = plt.subplot(121)\n",
    "plt.title('Basins Area')\n",
    "selected_basins.plot(ax=ax1)\n",
    "plt.axis('off')\n",
    "\n",
    "ax2 = plt.subplot(122)\n",
    "plt.title('Land Use Area')\n",
    "land_use.plot(ax=ax2)\n",
    "plt.axis('off')"
   ]
  },
  {
   "cell_type": "code",
   "execution_count": null,
   "id": "9e56479d-60e5-4166-9026-aebd5490c7a8",
   "metadata": {},
   "outputs": [],
   "source": [
    "## Dissolve Land Use\n"
   ]
  },
  {
   "cell_type": "code",
   "execution_count": null,
   "id": "df5e2a4e-3ace-4d59-9a91-f8309c164d02",
   "metadata": {},
   "outputs": [],
   "source": [
    "# Calculating the morphometric analysis in Sub-basin level 12\n",
    "def SubBasin():\n",
    "    "
   ]
  }
 ],
 "metadata": {
  "kernelspec": {
   "display_name": "Python 3 (ipykernel)",
   "language": "python",
   "name": "python3"
  },
  "language_info": {
   "codemirror_mode": {
    "name": "ipython",
    "version": 3
   },
   "file_extension": ".py",
   "mimetype": "text/x-python",
   "name": "python",
   "nbconvert_exporter": "python",
   "pygments_lexer": "ipython3",
   "version": "3.9.18"
  }
 },
 "nbformat": 4,
 "nbformat_minor": 5
}
